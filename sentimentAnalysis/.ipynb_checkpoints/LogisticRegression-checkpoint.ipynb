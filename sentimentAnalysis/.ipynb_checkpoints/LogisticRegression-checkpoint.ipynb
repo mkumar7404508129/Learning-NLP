{
 "cells": [
  {
   "cell_type": "code",
   "execution_count": 7,
   "id": "e830849c-0e50-464c-9026-8618619c77ac",
   "metadata": {},
   "outputs": [],
   "source": [
    "import numpy as np"
   ]
  },
  {
   "cell_type": "code",
   "execution_count": 8,
   "id": "6cd8ceba-0682-47d4-bd37-9d3305de4209",
   "metadata": {},
   "outputs": [],
   "source": [
    "class LogisticRegression:\n",
    "    def __init__(self,lr=0.0001,number_itr=1000):\n",
    "        self.lr=lr\n",
    "        self.itterator=number_itr\n",
    "        self.weight=None;\n",
    "        self.bias=None;\n",
    "    def fit(self,X,y):\n",
    "        number_sample,number_feature=X.shape\n",
    "        self.weight=np.zeros(number_feature)\n",
    "#         Gradient desent\n",
    "        for _ in range(itterator):\n",
    "            linearModel=np.dot(X,self.weight)+self.bias\n",
    "            y_predicted=self.sigmoid(linearModel)\n",
    "            dw= (1/number_sample)*(np.dot(X.T,(y_predicted-y)))\n",
    "            db=(1/number_sample)*(y_predicted-y)\n",
    "            self.weight-=dw*self.lr;\n",
    "            self.bias-=self.lr*db\n",
    "        \n",
    "    def predict(self,X):\n",
    "        linearModel=np.dot(X,self.weight) + self.bias\n",
    "        y_predict=sigmoid(linearModel)\n",
    "        y_predicted_cls=[1 if i>0.5 else 0 for i in y_predict]\n",
    "        return y_predict\n",
    "    def sigmoid(self,x):\n",
    "        return 1/(1+np.exp(-x))\n",
    "   \n",
    "    \n",
    "    "
   ]
  },
  {
   "cell_type": "code",
   "execution_count": null,
   "id": "63b8f9a0-e687-4ab0-8fab-166523f65604",
   "metadata": {},
   "outputs": [],
   "source": []
  }
 ],
 "metadata": {
  "kernelspec": {
   "display_name": "Python 3 (ipykernel)",
   "language": "python",
   "name": "python3"
  },
  "language_info": {
   "codemirror_mode": {
    "name": "ipython",
    "version": 3
   },
   "file_extension": ".py",
   "mimetype": "text/x-python",
   "name": "python",
   "nbconvert_exporter": "python",
   "pygments_lexer": "ipython3",
   "version": "3.10.4"
  }
 },
 "nbformat": 4,
 "nbformat_minor": 5
}
